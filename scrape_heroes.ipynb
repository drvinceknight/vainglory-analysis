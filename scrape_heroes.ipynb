{
 "cells": [
  {
   "cell_type": "markdown",
   "metadata": {},
   "source": [
    "Scraping http://www.vaingloryfire.com/vainglory/wiki/heroes to get utilities for hero choices."
   ]
  },
  {
   "cell_type": "code",
   "execution_count": 1,
   "metadata": {
    "collapsed": true
   },
   "outputs": [],
   "source": [
    "from bs4 import BeautifulSoup\n",
    "import requests\n",
    "import re\n",
    "import csv"
   ]
  },
  {
   "cell_type": "markdown",
   "metadata": {},
   "source": [
    "Go grab the the main wiki page."
   ]
  },
  {
   "cell_type": "code",
   "execution_count": 3,
   "metadata": {
    "collapsed": false
   },
   "outputs": [],
   "source": [
    "page = requests.get('http://www.vaingloryfire.com/vainglory/wiki/heroes')\n",
    "soup = BeautifulSoup(page.text, 'html.parser')"
   ]
  },
  {
   "cell_type": "markdown",
   "metadata": {},
   "source": [
    "Go find the name of every hero and the link to their own page."
   ]
  },
  {
   "cell_type": "code",
   "execution_count": 4,
   "metadata": {
    "collapsed": false
   },
   "outputs": [
    {
     "data": {
      "text/plain": [
       "{u'adagio': u'/vainglory/wiki/heroes/adagio',\n",
       " u'ardan': u'/vainglory/wiki/heroes/ardan',\n",
       " u'catherine': u'/vainglory/wiki/heroes/catherine',\n",
       " u'celeste': u'/vainglory/wiki/heroes/celeste',\n",
       " u'fortress': u'/vainglory/wiki/heroes/fortress',\n",
       " u'glaive': u'/vainglory/wiki/heroes/glaive',\n",
       " u'joule': u'/vainglory/wiki/heroes/joule',\n",
       " u'koshka': u'/vainglory/wiki/heroes/koshka',\n",
       " u'krul': u'/vainglory/wiki/heroes/krul',\n",
       " u'petal': u'/vainglory/wiki/heroes/petal',\n",
       " u'ringo': u'/vainglory/wiki/heroes/ringo',\n",
       " u'rona': u'/vainglory/wiki/heroes/rona',\n",
       " u'saw': u'/vainglory/wiki/heroes/saw',\n",
       " u'skaarf': u'/vainglory/wiki/heroes/skaarf',\n",
       " u'taka': u'/vainglory/wiki/heroes/taka',\n",
       " u'vox': u'/vainglory/wiki/heroes/vox'}"
      ]
     },
     "execution_count": 4,
     "metadata": {},
     "output_type": "execute_result"
    }
   ],
   "source": [
    "root = '/vainglory/wiki/heroes'\n",
    "urls = [link.get('href') for link in soup.find_all('a')]\n",
    "heroes = {url[len(root) + 1:]:url for url in urls[2:] if url.startswith(root + '/')}\n",
    "heroes"
   ]
  },
  {
   "cell_type": "markdown",
   "metadata": {},
   "source": [
    "Functions to parse each hero."
   ]
  },
  {
   "cell_type": "code",
   "execution_count": 5,
   "metadata": {
    "collapsed": false
   },
   "outputs": [],
   "source": [
    "def parse_hero(hero, dic=heroes):\n",
    "    \"\"\"Parse a hero\"\"\"\n",
    "    page = requests.get('http://www.vaingloryfire.com' + dic[hero])\n",
    "    soup = BeautifulSoup(page.text, 'html.parser')\n",
    "    return soup"
   ]
  },
  {
   "cell_type": "code",
   "execution_count": 38,
   "metadata": {
    "collapsed": false
   },
   "outputs": [],
   "source": [
    "def get_guides(hero, dic=heroes, lim_on_guides=None):\n",
    "    \"\"\"Get all the urls of the guides on the front page\"\"\"\n",
    "    soup = parse_hero(hero, dic=dic)\n",
    "    urls = [link.get('href') for link in soup.find_all('a')]\n",
    "    guides = [url for url in urls[2:] if ((url != None) and url.startswith('/vainglory/guide/'))][:lim_on_guides]\n",
    "    return guides"
   ]
  },
  {
   "cell_type": "code",
   "execution_count": 39,
   "metadata": {
    "collapsed": false
   },
   "outputs": [],
   "source": [
    "def clean_threat(threat):\n",
    "    \"\"\"Clean a given threat (this is displayed as image files)\"\"\"\n",
    "    results = []\n",
    "    for s in BeautifulSoup(str(threat)).find_all(\"img\"):\n",
    "        result = re.search('heroes/(.*).png', str(s))\n",
    "        results.append(result.group(1))\n",
    "    return results\n",
    "\n",
    "def get_threat_to_hero(hero, guide, dic=heroes):\n",
    "    \"\"\"Get each threat to a hero, if there are none, go back and find a different guide. \n",
    "    This returns a dictionary of threats to lists of heroes.\"\"\"\n",
    "\n",
    "    page = requests.get('http://www.vaingloryfire.com' + guide)\n",
    "    soup = BeautifulSoup(page.text, 'html.parser')\n",
    "    threats = soup.find_all(\"div\", {\"class\":\"heroes\"})\n",
    "        \n",
    "    threat_to_hero = {float(threat['data-position']):clean_threat(threat) for threat in threats}\n",
    "    return threat_to_hero"
   ]
  },
  {
   "cell_type": "code",
   "execution_count": 40,
   "metadata": {
    "collapsed": false
   },
   "outputs": [],
   "source": [
    "def get_hero_to_threat(hero, guide, dic=heroes):\n",
    "    \"\"\"Swaps the dictionary: for a given hero, \n",
    "    gives a dictionary mapping another hero to it's threat\"\"\"\n",
    "    t2h = get_threat_to_hero(hero, guide, dic=dic)\n",
    "    hero_to_threat = {hero:threat for threat, sublist in t2h.iteritems() for hero in sublist}\n",
    "    return hero_to_threat\n",
    "\n",
    "def expected_threat(hero, dic=heroes, lim_on_guides = None):\n",
    "    \"\"\"Go through all the guides and get the mean utility for a hero\"\"\"\n",
    "    guides = get_guides(hero, dic=dic, lim_on_guides=lim_on_guides)\n",
    "    dictionaries = [get_hero_to_threat(hero, guide, dic=dic) for guide in guides]\n",
    "    hero_to_threat = {hero:sum([d.get(hero, 0) for d in dictionaries])/len(dic) for hero in dic}\n",
    "    return hero_to_threat\n",
    "        "
   ]
  },
  {
   "cell_type": "markdown",
   "metadata": {},
   "source": [
    "Go scrape!"
   ]
  },
  {
   "cell_type": "code",
   "execution_count": 41,
   "metadata": {
    "collapsed": false
   },
   "outputs": [],
   "source": [
    "h2t_dictionaries = {hero:expected_threat(hero) for hero in heroes}"
   ]
  },
  {
   "cell_type": "markdown",
   "metadata": {},
   "source": [
    "Check that we have everything:"
   ]
  },
  {
   "cell_type": "code",
   "execution_count": 42,
   "metadata": {
    "collapsed": false
   },
   "outputs": [
    {
     "data": {
      "text/plain": [
       "True"
      ]
     },
     "execution_count": 42,
     "metadata": {},
     "output_type": "execute_result"
    }
   ],
   "source": [
    "set(h2t_dictionaries.keys()) == set(heroes)"
   ]
  },
  {
   "cell_type": "markdown",
   "metadata": {},
   "source": [
    "All herores are a threat to all heroes"
   ]
  },
  {
   "cell_type": "code",
   "execution_count": 43,
   "metadata": {
    "collapsed": false
   },
   "outputs": [
    {
     "data": {
      "text/plain": [
       "[(u'adagio', 16),\n",
       " (u'koshka', 16),\n",
       " (u'ardan', 16),\n",
       " (u'joule', 16),\n",
       " (u'catherine', 16),\n",
       " (u'celeste', 16),\n",
       " (u'krul', 16),\n",
       " (u'ringo', 16),\n",
       " (u'taka', 16),\n",
       " (u'saw', 16),\n",
       " (u'petal', 16),\n",
       " (u'skaarf', 16),\n",
       " (u'vox', 16),\n",
       " (u'rona', 16),\n",
       " (u'fortress', 16),\n",
       " (u'glaive', 16)]"
      ]
     },
     "execution_count": 43,
     "metadata": {},
     "output_type": "execute_result"
    }
   ],
   "source": [
    "[(hero, len(threat)) for hero, threat in h2t_dictionaries.iteritems()]"
   ]
  },
  {
   "cell_type": "markdown",
   "metadata": {},
   "source": [
    "Creating the payoff matrices and writing them to file.\n",
    "If a hero is not considered a threat, it is given a threat level of 5."
   ]
  },
  {
   "cell_type": "code",
   "execution_count": 44,
   "metadata": {
    "collapsed": false
   },
   "outputs": [],
   "source": [
    "A = [[h2t_dictionaries[hero][opponent] for opponent in heroes]for hero in heroes]\n",
    "B = [[h2t_dictionaries[opponent][hero] for opponent in heroes]for hero in heroes]"
   ]
  },
  {
   "cell_type": "code",
   "execution_count": 45,
   "metadata": {
    "collapsed": true
   },
   "outputs": [],
   "source": [
    "for m in ['A', 'B']:\n",
    "    f = open('%s.csv' %m, 'w')\n",
    "    csv_wrtr = csv.writer(f)\n",
    "    for row in eval(m):\n",
    "        csv_wrtr.writerow(row)\n",
    "    f.close()"
   ]
  },
  {
   "cell_type": "code",
   "execution_count": 46,
   "metadata": {
    "collapsed": false
   },
   "outputs": [
    {
     "name": "stdout",
     "output_type": "stream",
     "text": [
      "1.1875,0.5625,0.1875,2.5625,1.125,1.3125,3.6875,0.8125,2.875,1.8125,2.3125,0.4375,2.8125,2.6875,1.8125,0.625\r",
      "\r\n",
      "1.4375,2.1875,1.625,4.0,1.5,2.1875,1.875,3.0625,3.375,3.0,2.25,0.5,2.75,3.875,3.125,1.5\r",
      "\r\n",
      "3.0,1.9375,3.3125,3.875,3.0625,4.3125,1.5625,2.5,5.25,5.0625,2.125,0.8125,2.8125,2.875,1.9375,1.125\r",
      "\r\n",
      "3.4375,2.0625,3.4375,4.5625,3.25,3.875,4.0,3.75,4.125,6.0,3.3125,1.0625,4.0,4.75,3.5,1.375\r",
      "\r\n",
      "1.5625,2.8125,2.0625,4.25,2.6875,4.5625,3.6875,3.5,7.5625,8.0,4.0,0,6.0625,3.0625,2.1875,1.875\r",
      "\r\n",
      "2.5,1.5625,0.6875,2.875,1.8125,1.5625,3.75,1.9375,4.9375,4.5625,4.3125,0,3.625,3.4375,2.9375,0.375\r",
      "\r\n",
      "3.3125,0.875,0.5625,3.25,1.0,2.4375,2.5,1.875,2.375,2.1875,3.6875,0.3125,2.9375,2.125,1.8125,0.75\r",
      "\r\n",
      "2.25,1.25,2.125,4.5,1.25,3.8125,3.75,2.3125,4.75,7.5625,4.9375,0,5.75,1.5,2.0,0.3125\r",
      "\r\n",
      "1.5,0.375,0.75,4.125,0.75,2.3125,3.4375,1.1875,2.1875,2.0,1.3125,0.1875,3.5,1.4375,1.875,0.125\r",
      "\r\n",
      "2.875,0.875,1.125,4.0625,0.875,1.875,5.1875,1.4375,3.375,2.8125,2.1875,0,5.5,2.6875,3.0,0.5\r",
      "\r\n",
      "1.75,1.625,1.4375,1.4375,0.875,1.4375,1.125,0.9375,3.75,3.3125,2.5625,0.4375,2.1875,2.0,1.6875,0.875\r",
      "\r\n",
      "2.5,2.3125,4.6875,4.875,4.875,3.5,4.8125,3.4375,3.5,5.0,1.9375,2.0625,4.375,2.625,3.4375,2.25\r",
      "\r\n",
      "2.5,1.4375,1.75,6.5,1.6875,4.0,3.625,2.3125,2.8125,3.5,3.8125,0.875,2.0625,3.25,3.125,1.3125\r",
      "\r\n",
      "2.5,0.5625,1.125,3.3125,1.6875,2.125,4.5625,1.8125,3.5,3.3125,2.25,0.4375,4.4375,2.125,3.625,0.5\r",
      "\r\n",
      "3.125,1.75,1.625,4.25,2.375,3.25,3.875,2.125,4.8125,6.0625,2.8125,0.375,3.875,2.375,3.0625,0.9375\r",
      "\r\n",
      "2.0625,1.375,1.9375,3.125,3.125,1.875,2.1875,2.0625,1.8125,3.5,2.125,0.75,2.875,1.875,2.8125,2.5\r",
      "\r\n"
     ]
    }
   ],
   "source": [
    "cat A.csv"
   ]
  },
  {
   "cell_type": "code",
   "execution_count": 24,
   "metadata": {
    "collapsed": false
   },
   "outputs": [
    {
     "name": "stdout",
     "output_type": "stream",
     "text": [
      "1.1875,1.4375,3.0,3.4375,1.5625,2.5,3.3125,2.25,1.5,2.875,1.75,2.5,2.5,2.5,3.125,2.0625\r",
      "\r\n",
      "0.5625,2.1875,1.9375,2.0625,2.8125,1.5625,0.875,1.25,0.375,0.875,1.625,2.3125,1.4375,0.5625,1.75,1.375\r",
      "\r\n",
      "0.1875,1.625,3.3125,3.4375,2.0625,0.6875,0.5625,2.125,0.75,1.125,1.4375,4.6875,1.75,1.125,1.625,1.9375\r",
      "\r\n",
      "2.5625,4.0,3.875,4.5625,4.25,2.875,3.25,4.5,4.125,4.0625,1.4375,4.875,6.5,3.3125,4.25,3.125\r",
      "\r\n",
      "1.125,1.5,3.0625,3.25,2.6875,1.8125,1.0,1.25,0.75,0.875,0.875,4.875,1.6875,1.6875,2.375,3.125\r",
      "\r\n",
      "1.3125,2.1875,4.3125,3.875,4.5625,1.5625,2.4375,3.8125,2.3125,1.875,1.4375,3.5,4.0,2.125,3.25,1.875\r",
      "\r\n",
      "3.6875,1.875,1.5625,4.0,3.6875,3.75,2.5,3.75,3.4375,5.1875,1.125,4.8125,3.625,4.5625,3.875,2.1875\r",
      "\r\n",
      "0.8125,3.0625,2.5,3.75,3.5,1.9375,1.875,2.3125,1.1875,1.4375,0.9375,3.4375,2.3125,1.8125,2.125,2.0625\r",
      "\r\n",
      "2.875,3.375,5.25,4.125,7.5625,4.9375,2.375,4.75,2.1875,3.375,3.75,3.5,2.8125,3.5,4.8125,1.8125\r",
      "\r\n",
      "1.8125,3.0,5.0625,6.0,8.0,4.5625,2.1875,7.5625,2.0,2.8125,3.3125,5.0,3.5,3.3125,6.0625,3.5\r",
      "\r\n",
      "2.3125,2.25,2.125,3.3125,4.0,4.3125,3.6875,4.9375,1.3125,2.1875,2.5625,1.9375,3.8125,2.25,2.8125,2.125\r",
      "\r\n",
      "0.4375,0.5,0.8125,1.0625,0,0,0.3125,0,0.1875,0,0.4375,2.0625,0.875,0.4375,0.375,0.75\r",
      "\r\n",
      "2.8125,2.75,2.8125,4.0,6.0625,3.625,2.9375,5.75,3.5,5.5,2.1875,4.375,2.0625,4.4375,3.875,2.875\r",
      "\r\n",
      "2.6875,3.875,2.875,4.75,3.0625,3.4375,2.125,1.5,1.4375,2.6875,2.0,2.625,3.25,2.125,2.375,1.875\r",
      "\r\n",
      "1.8125,3.125,1.9375,3.5,2.1875,2.9375,1.8125,2.0,1.875,3.0,1.6875,3.4375,3.125,3.625,3.0625,2.8125\r",
      "\r\n",
      "0.625,1.5,1.125,1.375,1.875,0.375,0.75,0.3125,0.125,0.5,0.875,2.25,1.3125,0.5,0.9375,2.5\r",
      "\r\n"
     ]
    }
   ],
   "source": [
    "cat B.csv"
   ]
  },
  {
   "cell_type": "code",
   "execution_count": 47,
   "metadata": {
    "collapsed": false
   },
   "outputs": [
    {
     "data": {
      "text/plain": [
       "[u'adagio',\n",
       " u'ardan',\n",
       " u'vox',\n",
       " u'krul',\n",
       " u'celeste',\n",
       " u'ringo',\n",
       " u'catherine',\n",
       " u'skaarf',\n",
       " u'koshka',\n",
       " u'taka',\n",
       " u'petal',\n",
       " u'rona',\n",
       " u'glaive',\n",
       " u'saw',\n",
       " u'joule',\n",
       " u'fortress']"
      ]
     },
     "execution_count": 47,
     "metadata": {},
     "output_type": "execute_result"
    }
   ],
   "source": [
    "heroes.keys()"
   ]
  },
  {
   "cell_type": "markdown",
   "metadata": {},
   "source": [
    "Repeating the above but just with the first guide for each hero."
   ]
  },
  {
   "cell_type": "code",
   "execution_count": 48,
   "metadata": {
    "collapsed": true
   },
   "outputs": [],
   "source": [
    "h2t_dictionaries = {hero:expected_threat(hero, lim_on_guides=1) for hero in heroes}\n",
    "A = [[h2t_dictionaries[hero][opponent] for opponent in heroes]for hero in heroes]\n",
    "B = [[h2t_dictionaries[opponent][hero] for opponent in heroes]for hero in heroes]\n",
    "for m in ['A', 'B']:\n",
    "    f = open('%s-1.csv' %m, 'w')\n",
    "    csv_wrtr = csv.writer(f)\n",
    "    for row in eval(m):\n",
    "        csv_wrtr.writerow(row)\n",
    "    f.close()"
   ]
  },
  {
   "cell_type": "code",
   "execution_count": 51,
   "metadata": {
    "collapsed": false
   },
   "outputs": [
    {
     "name": "stdout",
     "output_type": "stream",
     "text": [
      "0,0,0,0,0,0,0.25,0,0,0,0.25,0,0,0.4375,0,0\r",
      "\r\n",
      "0.3125,0.1875,0,0.25,0,0.3125,0.125,0.25,0.5,0.4375,0.4375,0,0.3125,0.5625,0.1875,0\r",
      "\r\n",
      "0,0,0,0,0,0,0,0,0,0,0,0,0,0,0,0\r",
      "\r\n",
      "0.375,0.1875,0.25,0.1875,0.375,0.25,0.1875,0.4375,0.3125,0.3125,0.25,0,0.375,0.375,0.3125,0\r",
      "\r\n",
      "0.25,0.375,0.3125,0.4375,0.125,0.25,0.3125,0.375,0.5625,0.5625,0.1875,0,0.3125,0.0625,0.25,0.375\r",
      "\r\n",
      "0.4375,0,0,0.125,0,0,0.625,0,0.5,0,0.4375,0,0.3125,0.375,0.5,0\r",
      "\r\n",
      "0.375,0,0,0.1875,0,0.375,0.5,0.1875,0.1875,0.1875,0.5,0,0.375,0.1875,0.1875,0\r",
      "\r\n",
      "0.25,0.3125,0.5625,0.625,0,0.625,0.375,0,0.5625,0.625,0.25,0,0.375,0.0625,0.125,0\r",
      "\r\n",
      "0.1875,0,0,0.5625,0,0.25,0.4375,0,0.3125,0,0.125,0,0.5625,0.125,0.4375,0\r",
      "\r\n",
      "0,0,0,0,0,0,0,0,0,0,0,0,0,0,0,0\r",
      "\r\n",
      "0.4375,0.3125,0,0.0625,0,0.5,0.125,0.0625,0.625,0.625,0.5,0,0.5625,0.5625,0.375,0\r",
      "\r\n",
      "0.3125,0.125,0.5625,0.125,0.5,0.5625,0.1875,0.25,0.1875,0.375,0.125,0.3125,0.4375,0.125,0.4375,0.1875\r",
      "\r\n",
      "0.375,0,0,0.625,0,0.4375,0.5625,0.125,0.3125,0,0.4375,0,0,0.3125,0.1875,0\r",
      "\r\n",
      "0.1875,0,0,0.375,0,0.3125,0.25,0,0.5,0.5,0.1875,0,0.3125,0.4375,0.3125,0\r",
      "\r\n",
      "0,0,0,0,0,0,0,0,0,0,0,0,0,0,0,0\r",
      "\r\n",
      "0.125,0.125,0.25,0.25,0.25,0.625,0.375,0.125,0.1875,0.25,0.1875,0.25,0.4375,0.0625,0.625,0.3125\r",
      "\r\n"
     ]
    }
   ],
   "source": [
    "cat A-1.csv"
   ]
  },
  {
   "cell_type": "code",
   "execution_count": 52,
   "metadata": {
    "collapsed": false
   },
   "outputs": [
    {
     "name": "stdout",
     "output_type": "stream",
     "text": [
      "0,0.3125,0,0.375,0.25,0.4375,0.375,0.25,0.1875,0,0.4375,0.3125,0.375,0.1875,0,0.125\r",
      "\r\n",
      "0,0.1875,0,0.1875,0.375,0,0,0.3125,0,0,0.3125,0.125,0,0,0,0.125\r",
      "\r\n",
      "0,0,0,0.25,0.3125,0,0,0.5625,0,0,0,0.5625,0,0,0,0.25\r",
      "\r\n",
      "0,0.25,0,0.1875,0.4375,0.125,0.1875,0.625,0.5625,0,0.0625,0.125,0.625,0.375,0,0.25\r",
      "\r\n",
      "0,0,0,0.375,0.125,0,0,0,0,0,0,0.5,0,0,0,0.25\r",
      "\r\n",
      "0,0.3125,0,0.25,0.25,0,0.375,0.625,0.25,0,0.5,0.5625,0.4375,0.3125,0,0.625\r",
      "\r\n",
      "0.25,0.125,0,0.1875,0.3125,0.625,0.5,0.375,0.4375,0,0.125,0.1875,0.5625,0.25,0,0.375\r",
      "\r\n",
      "0,0.25,0,0.4375,0.375,0,0.1875,0,0,0,0.0625,0.25,0.125,0,0,0.125\r",
      "\r\n",
      "0,0.5,0,0.3125,0.5625,0.5,0.1875,0.5625,0.3125,0,0.625,0.1875,0.3125,0.5,0,0.1875\r",
      "\r\n",
      "0,0.4375,0,0.3125,0.5625,0,0.1875,0.625,0,0,0.625,0.375,0,0.5,0,0.25\r",
      "\r\n",
      "0.25,0.4375,0,0.25,0.1875,0.4375,0.5,0.25,0.125,0,0.5,0.125,0.4375,0.1875,0,0.1875\r",
      "\r\n",
      "0,0,0,0,0,0,0,0,0,0,0,0.3125,0,0,0,0.25\r",
      "\r\n",
      "0,0.3125,0,0.375,0.3125,0.3125,0.375,0.375,0.5625,0,0.5625,0.4375,0,0.3125,0,0.4375\r",
      "\r\n",
      "0.4375,0.5625,0,0.375,0.0625,0.375,0.1875,0.0625,0.125,0,0.5625,0.125,0.3125,0.4375,0,0.0625\r",
      "\r\n",
      "0,0.1875,0,0.3125,0.25,0.5,0.1875,0.125,0.4375,0,0.375,0.4375,0.1875,0.3125,0,0.625\r",
      "\r\n",
      "0,0,0,0,0.375,0,0,0,0,0,0,0.1875,0,0,0,0.3125\r",
      "\r\n"
     ]
    }
   ],
   "source": [
    "cat B-1.csv"
   ]
  },
  {
   "cell_type": "markdown",
   "metadata": {},
   "source": [
    "Repeating the above but with the first *two* guides for each hero."
   ]
  },
  {
   "cell_type": "code",
   "execution_count": 53,
   "metadata": {
    "collapsed": true
   },
   "outputs": [],
   "source": [
    "h2t_dictionaries = {hero:expected_threat(hero, lim_on_guides=2) for hero in heroes}\n",
    "A = [[h2t_dictionaries[hero][opponent] for opponent in heroes]for hero in heroes]\n",
    "B = [[h2t_dictionaries[opponent][hero] for opponent in heroes]for hero in heroes]\n",
    "for m in ['A', 'B']:\n",
    "    f = open('%s-2.csv' %m, 'w')\n",
    "    csv_wrtr = csv.writer(f)\n",
    "    for row in eval(m):\n",
    "        csv_wrtr.writerow(row)\n",
    "    f.close()"
   ]
  },
  {
   "cell_type": "markdown",
   "metadata": {},
   "source": [
    "Repeating the above with the first *three* guides for each hero."
   ]
  },
  {
   "cell_type": "code",
   "execution_count": 54,
   "metadata": {
    "collapsed": true
   },
   "outputs": [],
   "source": [
    "h2t_dictionaries = {hero:expected_threat(hero, lim_on_guides=3) for hero in heroes}\n",
    "A = [[h2t_dictionaries[hero][opponent] for opponent in heroes]for hero in heroes]\n",
    "B = [[h2t_dictionaries[opponent][hero] for opponent in heroes]for hero in heroes]\n",
    "for m in ['A', 'B']:\n",
    "    f = open('%s-3.csv' %m, 'w')\n",
    "    csv_wrtr = csv.writer(f)\n",
    "    for row in eval(m):\n",
    "        csv_wrtr.writerow(row)\n",
    "    f.close()"
   ]
  },
  {
   "cell_type": "markdown",
   "metadata": {},
   "source": [
    "Repeating the above with the first *four* guides for each hero."
   ]
  },
  {
   "cell_type": "code",
   "execution_count": 55,
   "metadata": {
    "collapsed": true
   },
   "outputs": [],
   "source": [
    "h2t_dictionaries = {hero:expected_threat(hero, lim_on_guides=4) for hero in heroes}\n",
    "A = [[h2t_dictionaries[hero][opponent] for opponent in heroes]for hero in heroes]\n",
    "B = [[h2t_dictionaries[opponent][hero] for opponent in heroes]for hero in heroes]\n",
    "for m in ['A', 'B']:\n",
    "    f = open('%s-4.csv' %m, 'w')\n",
    "    csv_wrtr = csv.writer(f)\n",
    "    for row in eval(m):\n",
    "        csv_wrtr.writerow(row)\n",
    "    f.close()"
   ]
  },
  {
   "cell_type": "markdown",
   "metadata": {},
   "source": [
    "Repeating the above with the first *five* guides for each hero."
   ]
  },
  {
   "cell_type": "code",
   "execution_count": 56,
   "metadata": {
    "collapsed": true
   },
   "outputs": [],
   "source": [
    "h2t_dictionaries = {hero:expected_threat(hero, lim_on_guides=5) for hero in heroes}\n",
    "A = [[h2t_dictionaries[hero][opponent] for opponent in heroes]for hero in heroes]\n",
    "B = [[h2t_dictionaries[opponent][hero] for opponent in heroes]for hero in heroes]\n",
    "for m in ['A', 'B']:\n",
    "    f = open('%s-5.csv' %m, 'w')\n",
    "    csv_wrtr = csv.writer(f)\n",
    "    for row in eval(m):\n",
    "        csv_wrtr.writerow(row)\n",
    "    f.close()"
   ]
  },
  {
   "cell_type": "markdown",
   "metadata": {},
   "source": [
    "Repeating the above with the first *six* guides for each hero."
   ]
  },
  {
   "cell_type": "code",
   "execution_count": 57,
   "metadata": {
    "collapsed": true
   },
   "outputs": [],
   "source": [
    "h2t_dictionaries = {hero:expected_threat(hero, lim_on_guides=6) for hero in heroes}\n",
    "A = [[h2t_dictionaries[hero][opponent] for opponent in heroes]for hero in heroes]\n",
    "B = [[h2t_dictionaries[opponent][hero] for opponent in heroes]for hero in heroes]\n",
    "for m in ['A', 'B']:\n",
    "    f = open('%s-6.csv' %m, 'w')\n",
    "    csv_wrtr = csv.writer(f)\n",
    "    for row in eval(m):\n",
    "        csv_wrtr.writerow(row)\n",
    "    f.close()"
   ]
  },
  {
   "cell_type": "markdown",
   "metadata": {},
   "source": [
    "Repeating the above with the first *seven* guides for each hero."
   ]
  },
  {
   "cell_type": "code",
   "execution_count": 61,
   "metadata": {
    "collapsed": true
   },
   "outputs": [],
   "source": [
    "h2t_dictionaries = {hero:expected_threat(hero, lim_on_guides=7) for hero in heroes}\n",
    "A = [[h2t_dictionaries[hero][opponent] for opponent in heroes]for hero in heroes]\n",
    "B = [[h2t_dictionaries[opponent][hero] for opponent in heroes]for hero in heroes]\n",
    "for m in ['A', 'B']:\n",
    "    f = open('%s-7.csv' %m, 'w')\n",
    "    csv_wrtr = csv.writer(f)\n",
    "    for row in eval(m):\n",
    "        csv_wrtr.writerow(row)\n",
    "    f.close()"
   ]
  },
  {
   "cell_type": "code",
   "execution_count": null,
   "metadata": {
    "collapsed": true
   },
   "outputs": [],
   "source": []
  }
 ],
 "metadata": {
  "kernelspec": {
   "display_name": "Python 2",
   "language": "python",
   "name": "python2"
  },
  "language_info": {
   "codemirror_mode": {
    "name": "ipython",
    "version": 2
   },
   "file_extension": ".py",
   "mimetype": "text/x-python",
   "name": "python",
   "nbconvert_exporter": "python",
   "pygments_lexer": "ipython2",
   "version": "2.7.8"
  }
 },
 "nbformat": 4,
 "nbformat_minor": 0
}
